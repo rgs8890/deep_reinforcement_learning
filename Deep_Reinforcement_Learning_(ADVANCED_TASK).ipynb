{
  "cells": [
    {
      "cell_type": "markdown",
      "metadata": {
        "id": "CcjJYiIzkVIf"
      },
      "source": [
        "# Deep Reinforcement Learning\n",
        "\n",
        "In this advanced task, we'll perform deep reinforcement learning using the DQN family of algorithms on stock market data. We'll use Yahoo Finance to fetch stock data and implement various DQN variants (DQN, Double DQN, Duelling Double DQN).\n"
      ]
    },
    {
      "cell_type": "markdown",
      "source": [
        "#Fetch Stock Market Data"
      ],
      "metadata": {
        "id": "_W0kVMPLUbBt"
      }
    },
    {
      "cell_type": "code",
      "source": [
        "import yfinance as yf\n",
        "import pandas as pd\n",
        "\n",
        "# Fetch stock data from Yahoo Finance\n",
        "def fetch_data(ticker, start_date, end_date):\n",
        "    df = yf.download(ticker, start=start_date, end=end_date)\n",
        "    df['Moving_Average'] = df['Close'].rolling(window=14).mean()\n",
        "    df['MACD'] = df['Close'].ewm(span=12, adjust=False).mean() - df['Close'].ewm(span=26, adjust=False).mean()\n",
        "    df['RSI'] = 100 - (100 / (1 + df['Close'].pct_change().rolling(window=14).mean()))\n",
        "    df = df.dropna()\n",
        "    return df\n",
        "\n",
        "# Example: Fetch data for Apple from 2020 to 2023\n",
        "data = fetch_data('AAPL', '2020-01-01', '2023-01-01')\n",
        "print(data.head())\n"
      ],
      "metadata": {
        "colab": {
          "base_uri": "https://localhost:8080/"
        },
        "id": "b7zPEePDUelp",
        "outputId": "0b4a8aa6-b236-4a08-bc1c-e653a781a691"
      },
      "execution_count": 12,
      "outputs": [
        {
          "output_type": "stream",
          "name": "stderr",
          "text": [
            "\r[*********************100%%**********************]  1 of 1 completed"
          ]
        },
        {
          "output_type": "stream",
          "name": "stdout",
          "text": [
            "                 Open       High        Low      Close  Adj Close     Volume  \\\n",
            "Date                                                                           \n",
            "2020-01-23  79.480003  79.889999  78.912498  79.807503  77.546776  104472000   \n",
            "2020-01-24  80.062500  80.832497  79.379997  79.577499  77.323280  146537600   \n",
            "2020-01-27  77.514999  77.942497  76.220001  77.237503  75.049553  161940000   \n",
            "2020-01-28  78.150002  79.599998  78.047501  79.422501  77.172646  162234000   \n",
            "2020-01-29  81.112503  81.962502  80.345001  81.084999  78.788078  216229200   \n",
            "\n",
            "            Moving_Average      MACD       RSI  \n",
            "Date                                            \n",
            "2020-01-23       77.628929  1.178154  0.440285  \n",
            "2020-01-24       78.001786  1.194728  0.488690  \n",
            "2020-01-27       78.165179  1.007431  0.223635  \n",
            "2020-01-28       78.509822  1.023510  0.457692  \n",
            "2020-01-29       78.887500  1.157064  0.491978  \n"
          ]
        },
        {
          "output_type": "stream",
          "name": "stderr",
          "text": [
            "\n"
          ]
        }
      ]
    },
    {
      "cell_type": "markdown",
      "source": [
        "#Create the Environment"
      ],
      "metadata": {
        "id": "3Leh45k1UoJQ"
      }
    },
    {
      "cell_type": "code",
      "source": [
        "import gym\n",
        "from gym import spaces\n",
        "import numpy as np\n",
        "import yfinance as yf\n",
        "import pandas as pd\n",
        "\n",
        "class StockTradingEnv(gym.Env):\n",
        "    def __init__(self, df):\n",
        "        super(StockTradingEnv, self).__init__()\n",
        "\n",
        "        self.df = df.reset_index(drop=True)\n",
        "        self.current_step = 0\n",
        "\n",
        "        # Define action and observation space\n",
        "        # Action space: Buy, Hold, Sell\n",
        "        self.action_space = spaces.Discrete(3)\n",
        "\n",
        "        # Observation space: [price, moving average, moving average convergence divergence, relative strength index]\n",
        "        self.observation_space = spaces.Box(low=0, high=1, shape=(4,), dtype=np.float32)\n",
        "\n",
        "        # Initial investment amount\n",
        "        self.initial_balance = 10000\n",
        "        self.cash_in_hand = self.initial_balance\n",
        "        self.stock_owned = 0\n",
        "        self.net_worth = self.initial_balance\n",
        "        self.max_net_worth = self.initial_balance\n",
        "\n",
        "    def _next_observation(self):\n",
        "        obs = np.array([\n",
        "            self.df.loc[self.current_step, 'Close'],\n",
        "            self.df.loc[self.current_step, 'Moving_Average'],\n",
        "            self.df.loc[self.current_step, 'MACD'],\n",
        "            self.df.loc[self.current_step, 'RSI']\n",
        "        ])\n",
        "        return obs\n",
        "\n",
        "    def _take_action(self, action):\n",
        "        current_price = self.df.loc[self.current_step, 'Close']\n",
        "\n",
        "        if action == 0:  # Buy\n",
        "            shares_bought = self.cash_in_hand // current_price\n",
        "            self.cash_in_hand -= shares_bought * current_price\n",
        "            self.stock_owned += shares_bought\n",
        "\n",
        "        elif action == 1:  # Hold\n",
        "            pass\n",
        "\n",
        "        elif action == 2:  # Sell\n",
        "            self.cash_in_hand += self.stock_owned * current_price\n",
        "            self.stock_owned = 0\n",
        "\n",
        "        self.net_worth = self.cash_in_hand + self.stock_owned * current_price\n",
        "        self.max_net_worth = max(self.max_net_worth, self.net_worth)\n",
        "\n",
        "    def step(self, action):\n",
        "        self._take_action(action)\n",
        "\n",
        "        self.current_step += 1\n",
        "\n",
        "        if self.current_step >= len(self.df):\n",
        "            self.current_step = 0  # Reset for the next episode\n",
        "\n",
        "        obs = self._next_observation()\n",
        "        reward = self.net_worth - self.initial_balance\n",
        "        done = self.net_worth <= 0\n",
        "\n",
        "        return obs, reward, done, {}\n",
        "\n",
        "    def reset(self):\n",
        "        self.cash_in_hand = self.initial_balance\n",
        "        self.stock_owned = 0\n",
        "        self.net_worth = self.initial_balance\n",
        "        self.current_step = 0\n",
        "\n",
        "        return self._next_observation()\n",
        "\n",
        "    def render(self, mode='human', close=False):\n",
        "        profit = self.net_worth - self.initial_balance\n",
        "        print(f'Step: {self.current_step}')\n",
        "        print(f'Balance: {self.cash_in_hand}')\n",
        "        print(f'Shares held: {self.stock_owned}')\n",
        "        print(f'Net worth: {self.net_worth}')\n",
        "        print(f'Profit: {profit}')\n",
        "\n",
        "# Fetch stock data from Yahoo Finance\n",
        "def fetch_data(ticker, start_date, end_date):\n",
        "    df = yf.download(ticker, start=start_date, end=end_date)\n",
        "    df['Moving_Average'] = df['Close'].rolling(window=14).mean()\n",
        "    df['MACD'] = df['Close'].ewm(span=12, adjust=False).mean() - df['Close'].ewm(span=26, adjust=False).mean()\n",
        "    df['RSI'] = 100 - (100 / (1 + df['Close'].pct_change().rolling(window=14).mean()))\n",
        "    df = df.dropna()\n",
        "    return df\n",
        "\n",
        "# Fetch data for Apple from 2020 to 2023\n",
        "data = fetch_data('AAPL', '2020-01-01', '2023-01-01')\n",
        "\n",
        "# Initialize environment\n",
        "env = StockTradingEnv(data)\n",
        "obs = env.reset()\n",
        "print(obs)\n"
      ],
      "metadata": {
        "colab": {
          "base_uri": "https://localhost:8080/"
        },
        "id": "_qU1K3l_UtqG",
        "outputId": "3ebc5ec7-fa47-459a-9658-15b0372e741a"
      },
      "execution_count": 18,
      "outputs": [
        {
          "output_type": "stream",
          "name": "stderr",
          "text": [
            "\r[*********************100%%**********************]  1 of 1 completed"
          ]
        },
        {
          "output_type": "stream",
          "name": "stdout",
          "text": [
            "[79.80750275 77.62892859  1.17815384  0.44028504]\n"
          ]
        },
        {
          "output_type": "stream",
          "name": "stderr",
          "text": [
            "\n"
          ]
        }
      ]
    },
    {
      "cell_type": "markdown",
      "source": [
        "#Implement Experience Replay Buffer\n",
        "\n",
        "The experience replay buffer stores past experiences for training the agent."
      ],
      "metadata": {
        "id": "qt_-5W5yU3Ws"
      }
    },
    {
      "cell_type": "code",
      "source": [
        "# Experience Replay Buffer\n",
        "class ReplayBuffer:\n",
        "    def __init__(self, buffer_size):\n",
        "        self.buffer = deque(maxlen=buffer_size)\n",
        "\n",
        "    def add(self, experience):\n",
        "        self.buffer.append(experience)\n",
        "\n",
        "    def sample(self, batch_size):\n",
        "        return random.sample(self.buffer, batch_size)\n",
        "\n",
        "    def size(self):\n",
        "        return len(self.buffer)\n",
        "\n"
      ],
      "metadata": {
        "id": "tu3BWYs5VBNL"
      },
      "execution_count": 1,
      "outputs": []
    },
    {
      "cell_type": "markdown",
      "source": [
        "#Implement DQN, Double DQN, and Duelling Double DQN\n",
        "We will use PyTorch for the neural network implementation."
      ],
      "metadata": {
        "id": "GpKchPdZVIJN"
      }
    },
    {
      "cell_type": "code",
      "source": [
        "import gym\n",
        "from gym import spaces\n",
        "import numpy as np\n",
        "import yfinance as yf\n",
        "import pandas as pd\n",
        "import torch\n",
        "import torch.nn as nn\n",
        "import torch.optim as optim\n",
        "import random\n",
        "from collections import deque\n",
        "import matplotlib.pyplot as plt\n",
        "\n",
        "class StockTradingEnv(gym.Env):\n",
        "    def __init__(self, df):\n",
        "        super(StockTradingEnv, self).__init__()\n",
        "\n",
        "        self.df = df.reset_index(drop=True)\n",
        "        self.current_step = 0\n",
        "\n",
        "        # Define action and observation space\n",
        "        # Action space: Buy, Hold, Sell\n",
        "        self.action_space = spaces.Discrete(3)\n",
        "\n",
        "        # Observation space: [price, moving average, moving average convergence divergence, relative strength index]\n",
        "        self.observation_space = spaces.Box(low=0, high=1, shape=(4,), dtype=np.float32)\n",
        "\n",
        "        # Initial investment amount\n",
        "        self.initial_balance = 10000\n",
        "        self.cash_in_hand = self.initial_balance\n",
        "        self.stock_owned = 0\n",
        "        self.net_worth = self.initial_balance\n",
        "        self.max_net_worth = self.initial_balance\n",
        "\n",
        "    def _next_observation(self):\n",
        "        obs = np.array([\n",
        "            self.df.loc[self.current_step, 'Close'],\n",
        "            self.df.loc[self.current_step, 'Moving_Average'],\n",
        "            self.df.loc[self.current_step, 'MACD'],\n",
        "            self.df.loc[self.current_step, 'RSI']\n",
        "        ])\n",
        "        return obs\n",
        "\n",
        "    def _take_action(self, action):\n",
        "        current_price = self.df.loc[self.current_step, 'Close']\n",
        "\n",
        "        if action == 0:  # Buy\n",
        "            shares_bought = self.cash_in_hand // current_price\n",
        "            self.cash_in_hand -= shares_bought * current_price\n",
        "            self.stock_owned += shares_bought\n",
        "\n",
        "        elif action == 1:  # Hold\n",
        "            pass\n",
        "\n",
        "        elif action == 2:  # Sell\n",
        "            self.cash_in_hand += self.stock_owned * current_price\n",
        "            self.stock_owned = 0\n",
        "\n",
        "        self.net_worth = self.cash_in_hand + self.stock_owned * current_price\n",
        "        self.max_net_worth = max(self.max_net_worth, self.net_worth)\n",
        "\n",
        "    def step(self, action):\n",
        "        self._take_action(action)\n",
        "\n",
        "        self.current_step += 1\n",
        "\n",
        "        if self.current_step >= len(self.df):\n",
        "            self.current_step = 0  # Reset for the next episode\n",
        "\n",
        "        obs = self._next_observation()\n",
        "        reward = self.net_worth - self.initial_balance\n",
        "        done = self.net_worth <= 0 or self.current_step == len(self.df) - 1  # Update done condition\n",
        "\n",
        "        return obs, reward, done, {}\n",
        "\n",
        "    def reset(self):\n",
        "        self.cash_in_hand = self.initial_balance\n",
        "        self.stock_owned = 0\n",
        "        self.net_worth = self.initial_balance\n",
        "        self.current_step = 0\n",
        "\n",
        "        return self._next_observation()\n",
        "\n",
        "    def render(self, mode='human', close=False):\n",
        "        profit = self.net_wworth - self.initial_balance\n",
        "        print(f'Step: {self.current_step}')\n",
        "        print(f'Balance: {self.cash_in_hand}')\n",
        "        print(f'Shares held: {self.stock_owned}')\n",
        "        print(f'Net worth: {self.net_worth}')\n",
        "        print(f'Profit: {profit}')\n",
        "\n",
        "# Fetch stock data from Yahoo Finance\n",
        "def fetch_data(ticker, start_date, end_date):\n",
        "    df = yf.download(ticker, start=start_date, end=end_date)\n",
        "    df['Moving_Average'] = df['Close'].rolling(window=14).mean()\n",
        "    df['MACD'] = df['Close'].ewm(span=12, adjust=False).mean() - df['Close'].ewm(span=26, adjust=False).mean()\n",
        "    df['RSI'] = 100 - (100 / (1 + df['Close'].pct_change().rolling(window=14).mean()))\n",
        "    df = df.dropna()\n",
        "    return df\n",
        "# Fetch data for Apple from 2020 to 2023\n",
        "data = fetch_data('AAPL', '2020-01-01', '2023-01-01')\n",
        "\n",
        "# Initialize environment\n",
        "env = StockTradingEnv(data)\n",
        "\n",
        "# Define the Q-Network\n",
        "class QNetwork(nn.Module):\n",
        "    def __init__(self, state_size, action_size):\n",
        "        super(QNetwork, self).__init__()\n",
        "        self.fc1 = nn.Linear(state_size, 64)\n",
        "        self.fc2 = nn.Linear(64, 64)\n",
        "        self.fc3 = nn.Linear(64, action_size)\n",
        "\n",
        "    def forward(self, x):\n",
        "        x = torch.relu(self.fc1(x))\n",
        "        x = torch.relu(self.fc2(x))\n",
        "        return self.fc3(x)\n",
        "\n",
        "# Define the Duelling Q-Network\n",
        "class DuellingQNetwork(nn.Module):\n",
        "    def __init__(self, state_size, action_size):\n",
        "        super(DuellingQNetwork, self).__init__()\n",
        "        self.fc1 = nn.Linear(state_size, 64)\n",
        "        self.fc2 = nn.Linear(64, 64)\n",
        "\n",
        "        self.value_stream = nn.Linear(64, 1)\n",
        "        self.advantage_stream = nn.Linear(64, action_size)\n",
        "\n",
        "    def forward(self, x):\n",
        "        x = torch.relu(self.fc1(x))\n",
        "        x = torch.relu(self.fc2(x))\n",
        "\n",
        "        value = self.value_stream(x)\n",
        "        advantage = self.advantage_stream(x)\n",
        "\n",
        "        return value + (advantage - advantage.mean())\n",
        "\n",
        "# Experience Replay Buffer\n",
        "class ReplayBuffer:\n",
        "    def __init__(self, buffer_size):\n",
        "        self.buffer = deque(maxlen=buffer_size)\n",
        "\n",
        "    def add(self, experience):\n",
        "        self.buffer.append(experience)\n",
        "\n",
        "    def sample(self, batch_size):\n",
        "        return random.sample(self.buffer, batch_size)\n",
        "\n",
        "    def size(self):\n",
        "        return len(self.buffer)\n",
        "\n",
        "# Training and updating functions\n",
        "def train_dqn(env, replay_buffer, q_network, target_q_network, optimizer, batch_size, gamma):\n",
        "    if replay_buffer.size() < batch_size:\n",
        "        return\n",
        "\n",
        "    batch = replay_buffer.sample(batch_size)\n",
        "    states, actions, rewards, next_states, dones = zip(*batch)\n",
        "\n",
        "    states = torch.tensor(states, dtype=torch.float32)\n",
        "    actions = torch.tensor(actions, dtype=torch.int64).unsqueeze(1)\n",
        "    rewards = torch.tensor(rewards, dtype=torch.float32).unsqueeze(1)\n",
        "    next_states = torch.tensor(next_states, dtype=torch.float32)\n",
        "    dones = torch.tensor(dones, dtype=torch.float32).unsqueeze(1)\n",
        "\n",
        "    q_values = q_network(states).gather(1, actions)\n",
        "    next_q_values = target_q_network(next_states).max(1)[0].unsqueeze(1)\n",
        "    target_q_values = rewards + (gamma * next_q_values * (1 - dones))\n",
        "\n",
        "    loss = nn.MSELoss()(q_values, target_q_values)\n",
        "    optimizer.zero_grad()\n",
        "    loss.backward()\n",
        "    optimizer.step()\n",
        "\n",
        "def update_target_network(q_network, target_q_network):\n",
        "    target_q_network.load_state_dict(q_network.state_dict())\n",
        "\n",
        "# Hyperparameters\n",
        "state_size = 4\n",
        "action_size = 3\n",
        "buffer_size = 10000\n",
        "batch_size = 64\n",
        "gamma = 0.99\n",
        "learning_rate = 0.001\n",
        "target_update = 10\n",
        "max_episodes = 10\n",
        "max_steps = 10\n",
        "\n",
        "# Initialize environment, networks, optimizer, and replay buffer\n",
        "env = StockTradingEnv(data)\n",
        "replay_buffer = ReplayBuffer(buffer_size)\n",
        "\n",
        "q_network = QNetwork(state_size, action_size)\n",
        "target_q_network = QNetwork(state_size, action_size)\n",
        "optimizer = optim.Adam(q_network.parameters(), lr=learning_rate)\n",
        "\n",
        "duelling_q_network = DuellingQNetwork(state_size, action_size)\n",
        "duelling_target_q_network = DuellingQNetwork(state_size, action_size)\n",
        "duelling_optimizer = optim.Adam(duelling_q_network.parameters(), lr=learning_rate)\n",
        "\n",
        "update_target_network(q_network, target_q_network)\n",
        "update_target_network(duelling_q_network, duelling_target_q_network)\n",
        "\n",
        "# Training loop\n",
        "def train_model(q_network, target_q_network, optimizer):\n",
        "    rewards_all_episodes = []\n",
        "    for episode in range(max_episodes):\n",
        "        state = env.reset()\n",
        "        total_reward = 0\n",
        "        for step in range(max_steps):\n",
        "            action = np.argmax(q_network(torch.tensor(state, dtype=torch.float32)).detach().numpy())\n",
        "            next_state, reward, done, _ = env.step(action)\n",
        "            replay_buffer.add((state, action, reward, next_state, done))\n",
        "            state = next_state\n",
        "            total_reward += reward\n",
        "\n",
        "            train_dqn(env, replay_buffer, q_network, target_q_network, optimizer, batch_size, gamma)\n",
        "\n",
        "            if done:\n",
        "                print(f\"Episode {episode} finished after {step+1} steps with total reward {total_reward}\")\n",
        "                break\n",
        "\n",
        "        rewards_all_episodes.append(total_reward)\n",
        "        if episode % target_update == 0:\n",
        "            update_target_network(q_network, target_q_network)\n",
        "\n",
        "    return rewards_all_episodes\n",
        "\n",
        "# Train DQN\n",
        "dqn_rewards = train_model(q_network, target_q_network, optimizer)\n",
        "\n",
        "# Train Duelling Double DQN\n",
        "duelling_rewards = train_model(duelling_q_network, duelling_target_q_network, duelling_optimizer)\n",
        "\n",
        "# Plotting the results\n",
        "plt.plot(dqn_rewards, label='DQN')\n",
        "plt.plot(duelling_rewards, label='Duelling Double DQN')\n",
        "plt.xlabel('Episode')\n",
        "plt.ylabel('Total Reward')\n",
        "plt.title('DQN vs Duelling Double DQN')\n",
        "plt.legend()\n",
        "plt.show()\n"
      ],
      "metadata": {
        "colab": {
          "base_uri": "https://localhost:8080/",
          "height": 544
        },
        "id": "G3tBhUxxV9b_",
        "outputId": "e7fb8b04-3f38-47f3-a093-35eb12a53885"
      },
      "execution_count": 3,
      "outputs": [
        {
          "output_type": "stream",
          "name": "stderr",
          "text": [
            "\r[*********************100%%**********************]  1 of 1 completed\n",
            "<ipython-input-3-bdf9606c9d2e>:159: UserWarning: Creating a tensor from a list of numpy.ndarrays is extremely slow. Please consider converting the list to a single numpy.ndarray with numpy.array() before converting to a tensor. (Triggered internally at ../torch/csrc/utils/tensor_new.cpp:274.)\n",
            "  states = torch.tensor(states, dtype=torch.float32)\n"
          ]
        },
        {
          "output_type": "display_data",
          "data": {
            "text/plain": [
              "<Figure size 640x480 with 1 Axes>"
            ],
            "image/png": "[encoded data removed]"
          },
          "metadata": {}
        }
      ]
    },
    {
      "cell_type": "markdown",
      "metadata": {
        "id": "el0ARzDLntcJ"
      },
      "source": [
        "#Trading Environment"
      ]
    },
    {
      "cell_type": "code",
      "execution_count": 1,
      "metadata": {
        "id": "R8ujfkOOns5z"
      },
      "outputs": [],
      "source": [
        "class TradingEnv:\n",
        "    def __init__(self, data, initial_balance=10000):\n",
        "        self.data = data\n",
        "        self.initial_balance = initial_balance\n",
        "        self.reset()\n",
        "\n",
        "    def reset(self):\n",
        "        self.balance = self.initial_balance\n",
        "        self.stock_held = 0\n",
        "        self.current_step = 0\n",
        "        self.done = False\n",
        "        return self._get_state()\n",
        "\n",
        "    def _get_state(self):\n",
        "        return [self.balance, self.stock_held, self.data.iloc[self.current_step]['Close']]\n",
        "\n",
        "    def step(self, action):\n",
        "        current_price = self.data.iloc[self.current_step]['Close']\n",
        "        self.current_step += 1\n",
        "\n",
        "        if action == 0:  # Hold\n",
        "            reward = 0\n",
        "        elif action == 1:  # Buy\n",
        "            if self.balance >= current_price:\n",
        "                self.stock_held += 1\n",
        "                self.balance -= current_price\n",
        "                reward = 0\n",
        "            else:\n",
        "                reward = -1  # Penalty for trying to buy without enough balance\n",
        "        elif action == 2:  # Sell\n",
        "            if self.stock_held > 0:\n",
        "                self.stock_held -= 1\n",
        "                self.balance += current_price\n",
        "                reward = current_price - self.data.iloc[self.current_step-1]['Close']  # Reward is profit from the sale\n",
        "            else:\n",
        "                reward = -1  # Penalty for trying to sell without holding any stock\n",
        "\n",
        "        if self.current_step >= len(self.data) - 1:\n",
        "            self.done = True\n",
        "        else:\n",
        "            self.done = False\n",
        "\n",
        "        next_state = self._get_state()\n",
        "        return next_state, reward, self.done\n"
      ]
    },
    {
      "cell_type": "markdown",
      "metadata": {
        "id": "n6oaE6E9n71x"
      },
      "source": [
        "#Experience Replay Buffer"
      ]
    },
    {
      "cell_type": "code",
      "execution_count": 2,
      "metadata": {
        "id": "KQQYD6Uon998"
      },
      "outputs": [],
      "source": [
        "class ReplayBuffer:\n",
        "    def __init__(self, max_size):\n",
        "        self.buffer = deque(maxlen=max_size)\n",
        "\n",
        "    def add(self, state, action, reward, next_state, done):\n",
        "        self.buffer.append((state, action, reward, next_state, done))\n",
        "\n",
        "    def sample(self, batch_size):\n",
        "        if len(self.buffer) < batch_size:\n",
        "            return None\n",
        "        indices = np.random.choice(len(self.buffer), batch_size, replace=False)\n",
        "        states, actions, rewards, next_states, dones = zip(*[self.buffer[idx] for idx in indices])\n",
        "        return np.array(states), np.array(actions), np.array(rewards), np.array(next_states), np.array(dones)\n",
        "\n",
        "    def size(self):\n",
        "        return len(self.buffer)\n"
      ]
    },
    {
      "cell_type": "markdown",
      "metadata": {
        "id": "NYhfKN7zoGqu"
      },
      "source": [
        "#Deep Q-Network (DQN)"
      ]
    },
    {
      "cell_type": "code",
      "execution_count": 3,
      "metadata": {
        "id": "akoLj0neoF2a"
      },
      "outputs": [],
      "source": [
        "def build_dqn(state_size, action_size):\n",
        "    model = Sequential()\n",
        "    model.add(Input(shape=(state_size,)))\n",
        "    model.add(Dense(24, activation='relu'))\n",
        "    model.add(Dense(24, activation='relu'))\n",
        "    model.add(Dense(action_size, activation='linear'))\n",
        "    model.compile(optimizer=tf.keras.optimizers.Adam(learning_rate=0.001), loss='mse')\n",
        "    return model\n"
      ]
    },
    {
      "cell_type": "markdown",
      "metadata": {
        "id": "ePd_J3cUoXq4"
      },
      "source": [
        "#Double DQN"
      ]
    },
    {
      "cell_type": "code",
      "execution_count": 4,
      "metadata": {
        "id": "FOiw4o3Io9Wh"
      },
      "outputs": [],
      "source": [
        "class DoubleDQNAgent:\n",
        "    def __init__(self, state_size, action_size):\n",
        "        self.state_size = state_size\n",
        "        self.action_size = action_size\n",
        "        self.memory = ReplayBuffer(2000)\n",
        "        self.gamma = 0.99\n",
        "        self.epsilon = 1.0\n",
        "        self.epsilon_decay = 0.995\n",
        "        self.epsilon_min = 0.01\n",
        "        self.learning_rate = 0.001\n",
        "        self.batch_size = 32\n",
        "        self.train_start = 1000\n",
        "        self.model = self._build_model()\n",
        "        self.target_model = self._build_model()\n",
        "        self.update_target_model()\n",
        "\n",
        "    def _build_model(self):\n",
        "        model = Sequential()\n",
        "        model.add(Input(shape=(self.state_size,)))\n",
        "        model.add(Dense(24, activation='relu'))\n",
        "        model.add(Dense(24, activation='relu'))\n",
        "        model.add(Dense(self.action_size, activation='linear'))\n",
        "        model.compile(optimizer=tf.keras.optimizers.Adam(learning_rate=self.learning_rate), loss='mse')\n",
        "        return model\n",
        "\n",
        "    def update_target_model(self):\n",
        "        self.target_model.set_weights(self.model.get_weights())\n",
        "\n",
        "    def act(self, state):\n",
        "        if np.random.rand() <= self.epsilon:\n",
        "            return np.random.choice(self.action_size)\n",
        "        q_values = self.model.predict(np.array([state]))[0]\n",
        "        return np.argmax(q_values)\n",
        "\n",
        "    def replay(self):\n",
        "        if self.memory.size() < self.train_start:\n",
        "            return\n",
        "\n",
        "        batch = self.memory.sample(self.batch_size)\n",
        "        if batch is None:\n",
        "            return\n",
        "\n",
        "        states, actions, rewards, next_states, dones = batch\n",
        "\n",
        "        target = self.model.predict(states)\n",
        "        target_next = self.model.predict(next_states)\n",
        "        target_val = self.target_model.predict(next_states)\n",
        "\n",
        "        for i in range(self.batch_size):\n",
        "            if dones[i]:\n",
        "                target[i][actions[i]] = rewards[i]\n",
        "            else:\n",
        "                a = np.argmax(target_next[i])\n",
        "                target[i][actions[i]] = rewards[i] + self.gamma * (target_val[i][a])\n",
        "\n",
        "        self.model.fit(states, target, batch_size=self.batch_size, epochs=1, verbose=0)\n",
        "\n",
        "        if self.epsilon > self.epsilon_min:\n",
        "            self.epsilon *= self.epsilon_decay\n"
      ]
    },
    {
      "cell_type": "markdown",
      "metadata": {
        "id": "LtaKn6AopHfX"
      },
      "source": [
        "#Duelling Double DQN"
      ]
    },
    {
      "cell_type": "code",
      "execution_count": 5,
      "metadata": {
        "id": "Bb_ufjATpKtx"
      },
      "outputs": [],
      "source": [
        "# Define the Duelling Q-Network\n",
        "class DuellingQNetwork(nn.Module):\n",
        "    def __init__(self, state_size, action_size):\n",
        "        super(DuellingQNetwork, self).__init__()\n",
        "        self.fc1 = nn.Linear(state_size, 64)\n",
        "        self.fc2 = nn.Linear(64, 64)\n",
        "\n",
        "        self.value_stream = nn.Linear(64, 1)\n",
        "        self.advantage_stream = nn.Linear(64, action_size)\n",
        "\n",
        "    def forward(self, x):\n",
        "        x = torch.relu(self.fc1(x))\n",
        "        x = torch.relu(self.fc2(x))\n",
        "\n",
        "        value = self.value_stream(x)\n",
        "        advantage = self.advantage_stream(x)\n",
        "\n",
        "        return value + (advantage - advantage.mean())"
      ]
    },
    {
      "cell_type": "markdown",
      "metadata": {
        "id": "jpxodfAvpShi"
      },
      "source": [
        "#Training the Agents"
      ]
    },
    {
      "cell_type": "code",
      "execution_count": 6,
      "metadata": {
        "id": "iExxA7l0yX4u"
      },
      "outputs": [],
      "source": [
        "def train_agent(agent, env, num_episodes):\n",
        "    rewards = []\n",
        "    for e in range(num_episodes):\n",
        "        state = env.reset()\n",
        "        total_reward = 0\n",
        "\n",
        "        while not env.done:\n",
        "            action = agent.act(state)\n",
        "            next_state, reward, done = env.step(action)\n",
        "            agent.memory.add(state, action, reward, next_state, done)\n",
        "            state = next_state\n",
        "            total_reward += reward\n",
        "            if agent.memory.size() > agent.train_start:\n",
        "                agent.replay()\n",
        "            if done:\n",
        "                break\n",
        "\n",
        "        agent.update_target_model()\n",
        "        rewards.append(total_reward)\n",
        "        print(f\"Episode {e+1}/{num_episodes}, Total Reward: {total_reward}, Epsilon: {agent.epsilon:.2f}\")\n",
        "\n",
        "    return rewards\n"
      ]
    },
    {
      "cell_type": "markdown",
      "metadata": {
        "id": "sVmeKrX4yfF8"
      },
      "source": []
    }
  ],
  "metadata": {
    "colab": {
      "provenance": []
    },
    "kernelspec": {
      "display_name": "Python 3",
      "name": "python3"
    },
    "language_info": {
      "name": "python"
    }
  },
  "nbformat": 4,
  "nbformat_minor": 0
}