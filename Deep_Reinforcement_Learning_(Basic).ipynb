{
  "nbformat": 4,
  "nbformat_minor": 0,
  "metadata": {
    "colab": {
      "provenance": []
    },
    "kernelspec": {
      "name": "python3",
      "display_name": "Python 3"
    },
    "language_info": {
      "name": "python"
    }
  },
  "cells": [
    {
      "cell_type": "markdown",
      "source": [
        "# Deep Reinforcement Learning on the Stock Market (BASIC TASK)\n",
        "\n",
        "### Implementing a Deep Reinforcement Learning (DRL) agent to trade using stock market data involves several steps, including setting up the environment, defining the reward function, and training the agent using a DRL algorithm. In this example, we'll use the Proximal Policy Optimization (PPO) algorithm, which is a popular DRL algorithm for continuous action spaces. We will fetch stock market data from Yahoo Finance using the yfinance library."
      ],
      "metadata": {
        "id": "LRc8-vAolXaq"
      }
    },
    {
      "cell_type": "markdown",
      "source": [
        "# Basic Tasks\n",
        "Fetch Stock Market Data: We'll use the yfinance library to download historical stock price data.\n",
        "Define the Environment: Create a trading environment where the agent can interact with the market by buying, selling, or holding a stock.\n",
        "Define the Reward Function: The reward function will be based on the profit and loss from trades.\n",
        "\n"
      ],
      "metadata": {
        "id": "xxN1JAdnCv1y"
      }
    },
    {
      "cell_type": "code",
      "source": [
        "!pip install yfinance stable-baselines3 gym\n"
      ],
      "metadata": {
        "colab": {
          "base_uri": "https://localhost:8080/"
        },
        "id": "FR04FPbcDbGo",
        "outputId": "69adcdd8-53b7-412c-ca0c-46fe5a6fcc0c"
      },
      "execution_count": 1,
      "outputs": [
        {
          "output_type": "stream",
          "name": "stdout",
          "text": [
            "Requirement already satisfied: yfinance in /usr/local/lib/python3.10/dist-packages (0.2.41)\n",
            "Collecting stable-baselines3\n",
            "  Downloading stable_baselines3-2.3.2-py3-none-any.whl.metadata (5.1 kB)\n",
            "Requirement already satisfied: gym in /usr/local/lib/python3.10/dist-packages (0.25.2)\n",
            "Requirement already satisfied: pandas>=1.3.0 in /usr/local/lib/python3.10/dist-packages (from yfinance) (2.1.4)\n",
            "Requirement already satisfied: numpy>=1.16.5 in /usr/local/lib/python3.10/dist-packages (from yfinance) (1.26.4)\n",
            "Requirement already satisfied: requests>=2.31 in /usr/local/lib/python3.10/dist-packages (from yfinance) (2.31.0)\n",
            "Requirement already satisfied: multitasking>=0.0.7 in /usr/local/lib/python3.10/dist-packages (from yfinance) (0.0.11)\n",
            "Requirement already satisfied: lxml>=4.9.1 in /usr/local/lib/python3.10/dist-packages (from yfinance) (4.9.4)\n",
            "Requirement already satisfied: platformdirs>=2.0.0 in /usr/local/lib/python3.10/dist-packages (from yfinance) (4.2.2)\n",
            "Requirement already satisfied: pytz>=2022.5 in /usr/local/lib/python3.10/dist-packages (from yfinance) (2024.1)\n",
            "Requirement already satisfied: frozendict>=2.3.4 in /usr/local/lib/python3.10/dist-packages (from yfinance) (2.4.4)\n",
            "Requirement already satisfied: peewee>=3.16.2 in /usr/local/lib/python3.10/dist-packages (from yfinance) (3.17.6)\n",
            "Requirement already satisfied: beautifulsoup4>=4.11.1 in /usr/local/lib/python3.10/dist-packages (from yfinance) (4.12.3)\n",
            "Requirement already satisfied: html5lib>=1.1 in /usr/local/lib/python3.10/dist-packages (from yfinance) (1.1)\n",
            "Collecting gymnasium<0.30,>=0.28.1 (from stable-baselines3)\n",
            "  Downloading gymnasium-0.29.1-py3-none-any.whl.metadata (10 kB)\n",
            "Requirement already satisfied: torch>=1.13 in /usr/local/lib/python3.10/dist-packages (from stable-baselines3) (2.3.1+cu121)\n",
            "Requirement already satisfied: cloudpickle in /usr/local/lib/python3.10/dist-packages (from stable-baselines3) (2.2.1)\n",
            "Requirement already satisfied: matplotlib in /usr/local/lib/python3.10/dist-packages (from stable-baselines3) (3.7.1)\n",
            "Requirement already satisfied: gym-notices>=0.0.4 in /usr/local/lib/python3.10/dist-packages (from gym) (0.0.8)\n",
            "Requirement already satisfied: soupsieve>1.2 in /usr/local/lib/python3.10/dist-packages (from beautifulsoup4>=4.11.1->yfinance) (2.5)\n",
            "Requirement already satisfied: typing-extensions>=4.3.0 in /usr/local/lib/python3.10/dist-packages (from gymnasium<0.30,>=0.28.1->stable-baselines3) (4.12.2)\n",
            "Collecting farama-notifications>=0.0.1 (from gymnasium<0.30,>=0.28.1->stable-baselines3)\n",
            "  Downloading Farama_Notifications-0.0.4-py3-none-any.whl.metadata (558 bytes)\n",
            "Requirement already satisfied: six>=1.9 in /usr/local/lib/python3.10/dist-packages (from html5lib>=1.1->yfinance) (1.16.0)\n",
            "Requirement already satisfied: webencodings in /usr/local/lib/python3.10/dist-packages (from html5lib>=1.1->yfinance) (0.5.1)\n",
            "Requirement already satisfied: python-dateutil>=2.8.2 in /usr/local/lib/python3.10/dist-packages (from pandas>=1.3.0->yfinance) (2.8.2)\n",
            "Requirement already satisfied: tzdata>=2022.1 in /usr/local/lib/python3.10/dist-packages (from pandas>=1.3.0->yfinance) (2024.1)\n",
            "Requirement already satisfied: charset-normalizer<4,>=2 in /usr/local/lib/python3.10/dist-packages (from requests>=2.31->yfinance) (3.3.2)\n",
            "Requirement already satisfied: idna<4,>=2.5 in /usr/local/lib/python3.10/dist-packages (from requests>=2.31->yfinance) (3.7)\n",
            "Requirement already satisfied: urllib3<3,>=1.21.1 in /usr/local/lib/python3.10/dist-packages (from requests>=2.31->yfinance) (2.0.7)\n",
            "Requirement already satisfied: certifi>=2017.4.17 in /usr/local/lib/python3.10/dist-packages (from requests>=2.31->yfinance) (2024.7.4)\n",
            "Requirement already satisfied: filelock in /usr/local/lib/python3.10/dist-packages (from torch>=1.13->stable-baselines3) (3.15.4)\n",
            "Requirement already satisfied: sympy in /usr/local/lib/python3.10/dist-packages (from torch>=1.13->stable-baselines3) (1.13.1)\n",
            "Requirement already satisfied: networkx in /usr/local/lib/python3.10/dist-packages (from torch>=1.13->stable-baselines3) (3.3)\n",
            "Requirement already satisfied: jinja2 in /usr/local/lib/python3.10/dist-packages (from torch>=1.13->stable-baselines3) (3.1.4)\n",
            "Requirement already satisfied: fsspec in /usr/local/lib/python3.10/dist-packages (from torch>=1.13->stable-baselines3) (2024.6.1)\n",
            "Collecting nvidia-cuda-nvrtc-cu12==12.1.105 (from torch>=1.13->stable-baselines3)\n",
            "  Using cached nvidia_cuda_nvrtc_cu12-12.1.105-py3-none-manylinux1_x86_64.whl.metadata (1.5 kB)\n",
            "Collecting nvidia-cuda-runtime-cu12==12.1.105 (from torch>=1.13->stable-baselines3)\n",
            "  Using cached nvidia_cuda_runtime_cu12-12.1.105-py3-none-manylinux1_x86_64.whl.metadata (1.5 kB)\n",
            "Collecting nvidia-cuda-cupti-cu12==12.1.105 (from torch>=1.13->stable-baselines3)\n",
            "  Using cached nvidia_cuda_cupti_cu12-12.1.105-py3-none-manylinux1_x86_64.whl.metadata (1.6 kB)\n",
            "Collecting nvidia-cudnn-cu12==8.9.2.26 (from torch>=1.13->stable-baselines3)\n",
            "  Using cached nvidia_cudnn_cu12-8.9.2.26-py3-none-manylinux1_x86_64.whl.metadata (1.6 kB)\n",
            "Collecting nvidia-cublas-cu12==12.1.3.1 (from torch>=1.13->stable-baselines3)\n",
            "  Using cached nvidia_cublas_cu12-12.1.3.1-py3-none-manylinux1_x86_64.whl.metadata (1.5 kB)\n",
            "Collecting nvidia-cufft-cu12==11.0.2.54 (from torch>=1.13->stable-baselines3)\n",
            "  Using cached nvidia_cufft_cu12-11.0.2.54-py3-none-manylinux1_x86_64.whl.metadata (1.5 kB)\n",
            "Collecting nvidia-curand-cu12==10.3.2.106 (from torch>=1.13->stable-baselines3)\n",
            "  Using cached nvidia_curand_cu12-10.3.2.106-py3-none-manylinux1_x86_64.whl.metadata (1.5 kB)\n",
            "Collecting nvidia-cusolver-cu12==11.4.5.107 (from torch>=1.13->stable-baselines3)\n",
            "  Using cached nvidia_cusolver_cu12-11.4.5.107-py3-none-manylinux1_x86_64.whl.metadata (1.6 kB)\n",
            "Collecting nvidia-cusparse-cu12==12.1.0.106 (from torch>=1.13->stable-baselines3)\n",
            "  Using cached nvidia_cusparse_cu12-12.1.0.106-py3-none-manylinux1_x86_64.whl.metadata (1.6 kB)\n",
            "Collecting nvidia-nccl-cu12==2.20.5 (from torch>=1.13->stable-baselines3)\n",
            "  Using cached nvidia_nccl_cu12-2.20.5-py3-none-manylinux2014_x86_64.whl.metadata (1.8 kB)\n",
            "Collecting nvidia-nvtx-cu12==12.1.105 (from torch>=1.13->stable-baselines3)\n",
            "  Using cached nvidia_nvtx_cu12-12.1.105-py3-none-manylinux1_x86_64.whl.metadata (1.7 kB)\n",
            "Requirement already satisfied: triton==2.3.1 in /usr/local/lib/python3.10/dist-packages (from torch>=1.13->stable-baselines3) (2.3.1)\n",
            "Collecting nvidia-nvjitlink-cu12 (from nvidia-cusolver-cu12==11.4.5.107->torch>=1.13->stable-baselines3)\n",
            "  Downloading nvidia_nvjitlink_cu12-12.6.20-py3-none-manylinux2014_x86_64.whl.metadata (1.5 kB)\n",
            "Requirement already satisfied: contourpy>=1.0.1 in /usr/local/lib/python3.10/dist-packages (from matplotlib->stable-baselines3) (1.2.1)\n",
            "Requirement already satisfied: cycler>=0.10 in /usr/local/lib/python3.10/dist-packages (from matplotlib->stable-baselines3) (0.12.1)\n",
            "Requirement already satisfied: fonttools>=4.22.0 in /usr/local/lib/python3.10/dist-packages (from matplotlib->stable-baselines3) (4.53.1)\n",
            "Requirement already satisfied: kiwisolver>=1.0.1 in /usr/local/lib/python3.10/dist-packages (from matplotlib->stable-baselines3) (1.4.5)\n",
            "Requirement already satisfied: packaging>=20.0 in /usr/local/lib/python3.10/dist-packages (from matplotlib->stable-baselines3) (24.1)\n",
            "Requirement already satisfied: pillow>=6.2.0 in /usr/local/lib/python3.10/dist-packages (from matplotlib->stable-baselines3) (9.4.0)\n",
            "Requirement already satisfied: pyparsing>=2.3.1 in /usr/local/lib/python3.10/dist-packages (from matplotlib->stable-baselines3) (3.1.2)\n",
            "Requirement already satisfied: MarkupSafe>=2.0 in /usr/local/lib/python3.10/dist-packages (from jinja2->torch>=1.13->stable-baselines3) (2.1.5)\n",
            "Requirement already satisfied: mpmath<1.4,>=1.1.0 in /usr/local/lib/python3.10/dist-packages (from sympy->torch>=1.13->stable-baselines3) (1.3.0)\n",
            "Downloading stable_baselines3-2.3.2-py3-none-any.whl (182 kB)\n",
            "\u001b[2K   \u001b[90m━━━━━━━━━━━━━━━━━━━━━━━━━━━━━━━━━━━━━━━━\u001b[0m \u001b[32m182.3/182.3 kB\u001b[0m \u001b[31m3.1 MB/s\u001b[0m eta \u001b[36m0:00:00\u001b[0m\n",
            "\u001b[?25hDownloading gymnasium-0.29.1-py3-none-any.whl (953 kB)\n",
            "\u001b[2K   \u001b[90m━━━━━━━━━━━━━━━━━━━━━━━━━━━━━━━━━━━━━━━━\u001b[0m \u001b[32m953.9/953.9 kB\u001b[0m \u001b[31m15.3 MB/s\u001b[0m eta \u001b[36m0:00:00\u001b[0m\n",
            "\u001b[?25hUsing cached nvidia_cublas_cu12-12.1.3.1-py3-none-manylinux1_x86_64.whl (410.6 MB)\n",
            "Using cached nvidia_cuda_cupti_cu12-12.1.105-py3-none-manylinux1_x86_64.whl (14.1 MB)\n",
            "Using cached nvidia_cuda_nvrtc_cu12-12.1.105-py3-none-manylinux1_x86_64.whl (23.7 MB)\n",
            "Using cached nvidia_cuda_runtime_cu12-12.1.105-py3-none-manylinux1_x86_64.whl (823 kB)\n",
            "Using cached nvidia_cudnn_cu12-8.9.2.26-py3-none-manylinux1_x86_64.whl (731.7 MB)\n",
            "Using cached nvidia_cufft_cu12-11.0.2.54-py3-none-manylinux1_x86_64.whl (121.6 MB)\n",
            "Using cached nvidia_curand_cu12-10.3.2.106-py3-none-manylinux1_x86_64.whl (56.5 MB)\n",
            "Using cached nvidia_cusolver_cu12-11.4.5.107-py3-none-manylinux1_x86_64.whl (124.2 MB)\n",
            "Using cached nvidia_cusparse_cu12-12.1.0.106-py3-none-manylinux1_x86_64.whl (196.0 MB)\n",
            "Using cached nvidia_nccl_cu12-2.20.5-py3-none-manylinux2014_x86_64.whl (176.2 MB)\n",
            "Using cached nvidia_nvtx_cu12-12.1.105-py3-none-manylinux1_x86_64.whl (99 kB)\n",
            "Downloading Farama_Notifications-0.0.4-py3-none-any.whl (2.5 kB)\n",
            "Downloading nvidia_nvjitlink_cu12-12.6.20-py3-none-manylinux2014_x86_64.whl (19.7 MB)\n",
            "\u001b[2K   \u001b[90m━━━━━━━━━━━━━━━━━━━━━━━━━━━━━━━━━━━━━━━━\u001b[0m \u001b[32m19.7/19.7 MB\u001b[0m \u001b[31m38.9 MB/s\u001b[0m eta \u001b[36m0:00:00\u001b[0m\n",
            "\u001b[?25hInstalling collected packages: farama-notifications, nvidia-nvtx-cu12, nvidia-nvjitlink-cu12, nvidia-nccl-cu12, nvidia-curand-cu12, nvidia-cufft-cu12, nvidia-cuda-runtime-cu12, nvidia-cuda-nvrtc-cu12, nvidia-cuda-cupti-cu12, nvidia-cublas-cu12, gymnasium, nvidia-cusparse-cu12, nvidia-cudnn-cu12, nvidia-cusolver-cu12, stable-baselines3\n",
            "Successfully installed farama-notifications-0.0.4 gymnasium-0.29.1 nvidia-cublas-cu12-12.1.3.1 nvidia-cuda-cupti-cu12-12.1.105 nvidia-cuda-nvrtc-cu12-12.1.105 nvidia-cuda-runtime-cu12-12.1.105 nvidia-cudnn-cu12-8.9.2.26 nvidia-cufft-cu12-11.0.2.54 nvidia-curand-cu12-10.3.2.106 nvidia-cusolver-cu12-11.4.5.107 nvidia-cusparse-cu12-12.1.0.106 nvidia-nccl-cu12-2.20.5 nvidia-nvjitlink-cu12-12.6.20 nvidia-nvtx-cu12-12.1.105 stable-baselines3-2.3.2\n"
          ]
        }
      ]
    },
    {
      "cell_type": "markdown",
      "source": [],
      "metadata": {
        "id": "7Yyz2RQcB1o4"
      }
    },
    {
      "cell_type": "markdown",
      "source": [
        "Then, fetch the stock market data:"
      ],
      "metadata": {
        "id": "or67nnQpEdTj"
      }
    },
    {
      "cell_type": "code",
      "source": [
        "import yfinance as yf\n",
        "import numpy as np\n",
        "import pandas as pd\n",
        "import matplotlib.pyplot as plt\n",
        "\n",
        "# Fetch stock market data from Yahoo Finance\n",
        "def fetch_stock_data(ticker, start_date, end_date):\n",
        "    data = yf.download(ticker, start=start_date, end=end_date)\n",
        "    return data\n",
        "\n",
        "ticker = \"AAPL\"\n",
        "start_date = \"2020-01-01\"\n",
        "end_date = \"2023-01-01\"\n",
        "\n",
        "data = fetch_stock_data(ticker, start_date, end_date)\n",
        "print(data.head())\n"
      ],
      "metadata": {
        "colab": {
          "base_uri": "https://localhost:8080/"
        },
        "id": "nrSqQ1RFEl1u",
        "outputId": "75ec3830-d1cf-4406-ec36-b807e9ca187e"
      },
      "execution_count": 26,
      "outputs": [
        {
          "output_type": "stream",
          "name": "stderr",
          "text": [
            "\r[*********************100%%**********************]  1 of 1 completed"
          ]
        },
        {
          "output_type": "stream",
          "name": "stdout",
          "text": [
            "                 Open       High        Low      Close  Adj Close     Volume\n",
            "Date                                                                        \n",
            "2020-01-02  74.059998  75.150002  73.797501  75.087502  72.960464  135480400\n",
            "2020-01-03  74.287498  75.144997  74.125000  74.357498  72.251129  146322800\n",
            "2020-01-06  73.447502  74.989998  73.187500  74.949997  72.826851  118387200\n",
            "2020-01-07  74.959999  75.224998  74.370003  74.597504  72.484337  108872000\n",
            "2020-01-08  74.290001  76.110001  74.290001  75.797501  73.650375  132079200\n"
          ]
        },
        {
          "output_type": "stream",
          "name": "stderr",
          "text": [
            "\n"
          ]
        }
      ]
    },
    {
      "cell_type": "markdown",
      "source": [
        "# Define the Trading Environment\n",
        "We will define a custom environment using OpenAI's Gym framework:"
      ],
      "metadata": {
        "id": "ucfUh7jlGLyA"
      }
    },
    {
      "cell_type": "code",
      "source": [
        "import gym\n",
        "from gym import spaces\n",
        "import numpy as np\n",
        "\n",
        "class StockTradingEnv(gym.Env):\n",
        "    def __init__(self, df):\n",
        "        super(StockTradingEnv, self).__init__()\n",
        "\n",
        "        self.df = df\n",
        "        self.current_step = 0\n",
        "\n",
        "        # Define action and observation space\n",
        "        # Action space: Buy, Hold, Sell\n",
        "        self.action_space = spaces.Discrete(3)\n",
        "\n",
        "        # Observation space: [price, moving average, moving average convergence divergence, relative strength index]\n",
        "        self.observation_space = spaces.Box(low=0, high=1, shape=(4,), dtype=np.float32)\n",
        "\n",
        "        # Initial investment amount\n",
        "        self.initial_balance = 10000\n",
        "        self.cash_in_hand = self.initial_balance\n",
        "        self.stock_owned = 0\n",
        "        self.net_worth = self.initial_balance\n",
        "        self.max_net_worth = self.initial_balance\n",
        "        self.initial_price = self.df.loc[self.current_step, 'Close']\n",
        "\n",
        "    def _next_observation(self):\n",
        "        obs = np.array([\n",
        "            self.df.loc[self.current_step, 'Close'],\n",
        "            self.df.loc[self.current_step, 'Moving_Average'],\n",
        "            self.df.loc[self.current_step, 'MACD'],\n",
        "            self.df.loc[self.current_step, 'RSI']\n",
        "        ])\n",
        "        return obs\n",
        "\n",
        "    def _take_action(self, action):\n",
        "        current_price = self.df.loc[self.current_step, 'Close']\n",
        "\n",
        "        if action == 0:  # Buy\n",
        "            shares_bought = self.cash_in_hand // current_price\n",
        "            self.cash_in_hand -= shares_bought * current_price\n",
        "            self.stock_owned += shares_bought\n",
        "\n",
        "        elif action == 1:  # Hold\n",
        "            pass\n",
        "\n",
        "        elif action == 2:  # Sell\n",
        "            self.cash_in_hand += self.stock_owned * current_price\n",
        "            self.stock_owned = 0\n",
        "\n",
        "        self.net_worth = self.cash_in_hand + self.stock_owned * current_price\n",
        "        self.max_net_worth = max(self.max_net_worth, self.net_worth)\n",
        "\n",
        "    def step(self, action):\n",
        "        self._take_action(action)\n",
        "\n",
        "        self.current_step += 1\n",
        "\n",
        "        if self.current_step >= len(self.df) - 1:\n",
        "            self.current_step = 0  # Reset for the next episode\n",
        "\n",
        "        obs = self._next_observation()\n",
        "        reward = self.net_worth - self.initial_balance\n",
        "        done = self.net_worth <= 0\n",
        "\n",
        "        return obs, reward, done, {}\n",
        "\n",
        "    def reset(self):\n",
        "        self.cash_in_hand = self.initial_balance\n",
        "        self.stock_owned = 0\n",
        "        self.net_worth = self.initial_balance\n",
        "        self.current_step = 0\n",
        "        self.initial_price = self.df.loc[self.current_step, 'Close']\n",
        "\n",
        "        return self._next_observation()\n",
        "\n",
        "    def render(self, mode='human', close=False):\n",
        "        profit = self.net_worth - self.initial_balance\n",
        "        print(f'Step: {self.current_step}')\n",
        "        print(f'Balance: {self.cash_in_hand}')\n",
        "        print(f'Shares held: {self.stock_owned}')\n",
        "        print(f'Net worth: {self.net_worth}')\n",
        "        print(f'Profit: {profit}')\n"
      ],
      "metadata": {
        "id": "9_R3wg8TGS4y"
      },
      "execution_count": 27,
      "outputs": []
    },
    {
      "cell_type": "code",
      "source": [
        "import yfinance as yf\n",
        "import numpy as np\n",
        "import pandas as pd\n",
        "import matplotlib.pyplot as plt\n",
        "import gym\n",
        "from gym import spaces\n",
        "from stable_baselines3 import PPO\n",
        "from stable_baselines3.common.env_util import make_vec_env\n",
        "\n",
        "# Fetch stock market data from Yahoo Finance\n",
        "def fetch_stock_data(ticker, start_date, end_date):\n",
        "    data = yf.download(ticker, start=start_date, end=end_date)\n",
        "    return data\n",
        "\n",
        "ticker = \"AAPL\"  # Example: Apple Inc.\n",
        "start_date = \"2020-01-01\"\n",
        "end_date = \"2023-01-01\"\n",
        "\n",
        "data = fetch_stock_data(ticker, start_date, end_date)\n",
        "\n",
        "# Add technical indicators to the stock data\n",
        "def add_indicators(df):\n",
        "    df['Moving_Average'] = df['Close'].rolling(window=14).mean()\n",
        "    df['MACD'] = df['Close'].ewm(span=12, adjust=False).mean() - df['Close'].ewm(span=26, adjust=False).mean()\n",
        "    delta = df['Close'].diff()\n",
        "    gain = (delta.where(delta > 0, 0)).rolling(window=14).mean()\n",
        "    loss = (-delta.where(delta < 0, 0)).rolling(window=14).mean()\n",
        "    rs = gain / loss\n",
        "    df['RSI'] = 100 - (100 / (1 + rs))\n",
        "    df = df.dropna()\n",
        "    return df\n",
        "\n",
        "data = add_indicators(data)\n",
        "\n",
        "class StockTradingEnv(gym.Env):\n",
        "    def __init__(self, df):\n",
        "        super(StockTradingEnv, self).__init__()\n",
        "\n",
        "        self.df = df\n",
        "        self.current_step = 0\n",
        "\n",
        "        # Define action and observation space\n",
        "        # Action space: Buy, Hold, Sell\n",
        "        self.action_space = spaces.Discrete(3)\n",
        "\n",
        "        # Observation space: [price, moving average, MACD, RSI]\n",
        "        self.observation_space = spaces.Box(low=0, high=np.inf, shape=(4,), dtype=np.float32)\n",
        "\n",
        "        # Initial investment amount\n",
        "        self.initial_balance = 10000\n",
        "        self.balance = self.initial_balance\n",
        "        self.shares_held = 0\n",
        "        self.net_worth = self.initial_balance\n",
        "        self.max_net_worth = self.initial_balance\n",
        "\n",
        "    def _next_observation(self):\n",
        "        obs = np.array([\n",
        "            self.df.iloc[self.current_step]['Close'],\n",
        "            self.df.iloc[self.current_step]['Moving_Average'],\n",
        "            self.df.iloc[self.current_step]['MACD'],\n",
        "            self.df.iloc[self.current_step]['RSI']\n",
        "        ])\n",
        "        return obs\n",
        "\n",
        "    def _take_action(self, action):\n",
        "        current_price = self.df.iloc[self.current_step]['Close']\n",
        "\n",
        "        if action == 0:  # Buy\n",
        "            shares_bought = self.balance // current_price\n",
        "            self.balance -= shares_bought * current_price\n",
        "            self.shares_held += shares_bought\n",
        "\n",
        "        elif action == 1:  # Hold\n",
        "            pass\n",
        "\n",
        "        elif action == 2:  # Sell\n",
        "            self.balance += self.shares_held * current_price\n",
        "            self.shares_held = 0\n",
        "\n",
        "        self.net_worth = self.balance + self.shares_held * current_price\n",
        "        self.max_net_worth = max(self.max_net_worth, self.net_worth)\n",
        "\n",
        "    def step(self, action):\n",
        "        self._take_action(action)\n",
        "\n",
        "        self.current_step += 1\n",
        "\n",
        "        if self.current_step >= len(self.df) - 1:\n",
        "            self.current_step = 0  # Reset for the next episode\n",
        "\n",
        "        obs = self._next_observation()\n",
        "        reward = self.net_worth - self.initial_balance\n",
        "        done = self.net_worth <= 0\n",
        "\n",
        "        return obs, reward, done, {}\n",
        "\n",
        "    def reset(self):\n",
        "        self.balance = self.initial_balance\n",
        "        self.shares_held = 0\n",
        "        self.net_worth = self.initial_balance\n",
        "        self.current_step = 0\n",
        "\n",
        "        return self._next_observation()\n",
        "\n",
        "    def render(self, mode='human', close=False):\n",
        "        profit = self.net_worth - self.initial_balance\n",
        "        print(f'Step: {self.current_step}')\n",
        "        print(f'Balance: {self.balance}')\n",
        "        print(f'Shares held: {self.shares_held}')\n",
        "        print(f'Net worth: {self.net_worth}')\n",
        "        print(f'Profit: {profit}')\n",
        "\n",
        "# Create the trading environment\n",
        "env = StockTradingEnv(data)\n",
        "\n",
        "# Vectorize the environment\n",
        "env = make_vec_env(lambda: env, n_envs=1)\n",
        "\n",
        "# Create and train the PPO agent\n",
        "model = PPO(\"MlpPolicy\", env, verbose=1)\n",
        "model.learn(total_timesteps=10000)\n",
        "\n",
        "# Save the trained model\n",
        "model.save(\"ppo_stock_trading\")\n",
        "\n",
        "# Load the trained model\n",
        "model = PPO.load(\"ppo_stock_trading\")\n",
        "\n",
        "\n"
      ],
      "metadata": {
        "colab": {
          "base_uri": "https://localhost:8080/"
        },
        "id": "Qzx7OXEoGn5K",
        "outputId": "8dfdc147-8c99-4f98-da44-fb84c5f3ec5f"
      },
      "execution_count": 28,
      "outputs": [
        {
          "output_type": "stream",
          "name": "stderr",
          "text": [
            "\r[*********************100%%**********************]  1 of 1 completed\n",
            "/usr/local/lib/python3.10/dist-packages/stable_baselines3/common/vec_env/patch_gym.py:49: UserWarning: You provided an OpenAI Gym environment. We strongly recommend transitioning to Gymnasium environments. Stable-Baselines3 is automatically wrapping your environments in a compatibility layer, which could potentially cause issues.\n",
            "  warnings.warn(\n",
            "/usr/local/lib/python3.10/dist-packages/gym/core.py:256: DeprecationWarning: \u001b[33mWARN: Function `env.seed(seed)` is marked as deprecated and will be removed in the future. Please use `env.reset(seed=seed)` instead.\u001b[0m\n",
            "  deprecation(\n"
          ]
        },
        {
          "output_type": "stream",
          "name": "stdout",
          "text": [
            "Using cpu device\n",
            "-----------------------------\n",
            "| time/              |      |\n",
            "|    fps             | 744  |\n",
            "|    iterations      | 1    |\n",
            "|    time_elapsed    | 2    |\n",
            "|    total_timesteps | 2048 |\n",
            "-----------------------------\n",
            "-------------------------------------------\n",
            "| time/                   |               |\n",
            "|    fps                  | 549           |\n",
            "|    iterations           | 2             |\n",
            "|    time_elapsed         | 7             |\n",
            "|    total_timesteps      | 4096          |\n",
            "| train/                  |               |\n",
            "|    approx_kl            | 1.2517557e-07 |\n",
            "|    clip_fraction        | 0             |\n",
            "|    clip_range           | 0.2           |\n",
            "|    entropy_loss         | -1.1          |\n",
            "|    explained_variance   | -3.58e-07     |\n",
            "|    learning_rate        | 0.0003        |\n",
            "|    loss                 | 7.61e+10      |\n",
            "|    n_updates            | 10            |\n",
            "|    policy_gradient_loss | -8.46e-06     |\n",
            "|    value_loss           | 1.71e+11      |\n",
            "-------------------------------------------\n",
            "------------------------------------------\n",
            "| time/                   |              |\n",
            "|    fps                  | 520          |\n",
            "|    iterations           | 3            |\n",
            "|    time_elapsed         | 11           |\n",
            "|    total_timesteps      | 6144         |\n",
            "| train/                  |              |\n",
            "|    approx_kl            | 1.489534e-07 |\n",
            "|    clip_fraction        | 0            |\n",
            "|    clip_range           | 0.2          |\n",
            "|    entropy_loss         | -1.1         |\n",
            "|    explained_variance   | 0            |\n",
            "|    learning_rate        | 0.0003       |\n",
            "|    loss                 | 1.91e+11     |\n",
            "|    n_updates            | 20           |\n",
            "|    policy_gradient_loss | -1.72e-05    |\n",
            "|    value_loss           | 4.11e+11     |\n",
            "------------------------------------------\n",
            "-------------------------------------------\n",
            "| time/                   |               |\n",
            "|    fps                  | 518           |\n",
            "|    iterations           | 4             |\n",
            "|    time_elapsed         | 15            |\n",
            "|    total_timesteps      | 8192          |\n",
            "| train/                  |               |\n",
            "|    approx_kl            | 5.6665158e-08 |\n",
            "|    clip_fraction        | 0             |\n",
            "|    clip_range           | 0.2           |\n",
            "|    entropy_loss         | -1.1          |\n",
            "|    explained_variance   | -1.19e-07     |\n",
            "|    learning_rate        | 0.0003        |\n",
            "|    loss                 | 6.46e+10      |\n",
            "|    n_updates            | 30            |\n",
            "|    policy_gradient_loss | -3.48e-06     |\n",
            "|    value_loss           | 1.05e+11      |\n",
            "-------------------------------------------\n",
            "-------------------------------------------\n",
            "| time/                   |               |\n",
            "|    fps                  | 497           |\n",
            "|    iterations           | 5             |\n",
            "|    time_elapsed         | 20            |\n",
            "|    total_timesteps      | 10240         |\n",
            "| train/                  |               |\n",
            "|    approx_kl            | 2.1897722e-06 |\n",
            "|    clip_fraction        | 0             |\n",
            "|    clip_range           | 0.2           |\n",
            "|    entropy_loss         | -1.1          |\n",
            "|    explained_variance   | 0             |\n",
            "|    learning_rate        | 0.0003        |\n",
            "|    loss                 | 1.85e+09      |\n",
            "|    n_updates            | 40            |\n",
            "|    policy_gradient_loss | -8.83e-06     |\n",
            "|    value_loss           | 3.99e+09      |\n",
            "-------------------------------------------\n"
          ]
        }
      ]
    },
    {
      "cell_type": "markdown",
      "source": [
        "# Testing and Plotting\n",
        " We will test the trained model and plot the results:\n",
        "\n",
        "1. Net Worth Over Time: This plot shows how the agent's net worth changes with each step.\n",
        "2. Actions Over Time: This plot indicates the actions taken by the agent at each step, helping to understand the decision-making pattern.\n",
        "3. Rewards Over Time: This plot shows the rewards received at each step, which helps in evaluating the immediate impact of the agent's actions.\n",
        "4. Portfolio Value Over Time: This plot presents the combined value of cash and stocks, giving a full picture of the agent's portfolio performance."
      ],
      "metadata": {
        "id": "3q95Fpi7O77E"
      }
    },
    {
      "cell_type": "code",
      "source": [
        "# Test the trained model\n",
        "obs = env.reset()\n",
        "done = False\n",
        "net_worths = []\n",
        "\n",
        "# Set a maximum number of steps to prevent infinite loops\n",
        "max_steps = 1000\n",
        "steps = 0\n",
        "\n",
        "while not done and steps < max_steps:\n",
        "    action, _states = model.predict(obs)\n",
        "    obs, reward, done, info = env.step(action)\n",
        "    net_worths.append(env.get_attr('net_worth')[0])\n",
        "    env.render()\n",
        "    steps += 1\n",
        "\n",
        "# Plot net worth over time\n",
        "plt.plot(net_worths)\n",
        "plt.xlabel('Step')\n",
        "plt.ylabel('Net Worth')\n",
        "plt.title('Net Worth Over Time')\n",
        "plt.show()"
      ],
      "metadata": {
        "colab": {
          "base_uri": "https://localhost:8080/",
          "height": 507
        },
        "id": "CElJmFDiOxwh",
        "outputId": "96a18c9a-a364-4599-9f70-b855ce744802"
      },
      "execution_count": 32,
      "outputs": [
        {
          "output_type": "stream",
          "name": "stderr",
          "text": [
            "/usr/local/lib/python3.10/dist-packages/stable_baselines3/common/vec_env/base_vec_env.py:243: UserWarning: You tried to call render() but no `render_mode` was passed to the env constructor.\n",
            "  warnings.warn(\"You tried to call render() but no `render_mode` was passed to the env constructor.\")\n"
          ]
        },
        {
          "output_type": "display_data",
          "data": {
            "text/plain": [
              "<Figure size 640x480 with 1 Axes>"
            ],
            "image/png": "[encoded data removed]"
          },
          "metadata": {}
        }
      ]
    },
    {
      "cell_type": "code",
      "source": [],
      "metadata": {
        "id": "89udC6heAN34"
      },
      "execution_count": null,
      "outputs": []
    }
  ]
}