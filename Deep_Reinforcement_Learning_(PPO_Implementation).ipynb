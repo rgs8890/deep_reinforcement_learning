{
  "nbformat": 4,
  "nbformat_minor": 0,
  "metadata": {
    "colab": {
      "provenance": []
    },
    "kernelspec": {
      "name": "python3",
      "display_name": "Python 3"
    },
    "language_info": {
      "name": "python"
    }
  },
  "cells": [
    {
      "cell_type": "markdown",
      "source": [
        "# Deep Reinforcement Learning (PPO Implementation)"
      ],
      "metadata": {
        "id": "8gOb_PO4mUaA"
      }
    },
    {
      "cell_type": "markdown",
      "source": [
        "Implementing Proximal Policy Optimization (PPO) for trading on the stock market involves several steps. Which includes creating the environment, implementing PPO, training the model, and plotting the results"
      ],
      "metadata": {
        "id": "XsPPXq2s8ynl"
      }
    },
    {
      "cell_type": "markdown",
      "source": [
        "### Imports"
      ],
      "metadata": {
        "id": "0wArK_WNmErY"
      }
    },
    {
      "cell_type": "code",
      "source": [
        "import yfinance as yf\n",
        "import pandas as pd\n",
        "\n",
        "# Fetch historical data for Apple Inc.\n",
        "data = yf.download('AAPL', start='2020-01-01', end='2023-01-01')\n",
        "data = data[['Close']]  # Use only the closing price for simplicity\n",
        "data.reset_index(inplace=True)\n"
      ],
      "metadata": {
        "id": "xj_YtFjnmCp5",
        "colab": {
          "base_uri": "https://localhost:8080/"
        },
        "outputId": "7a918217-d7bd-4e5d-986d-aa9f0224c5de"
      },
      "execution_count": 12,
      "outputs": [
        {
          "output_type": "stream",
          "name": "stderr",
          "text": [
            "\r[*********************100%%**********************]  1 of 1 completed\n"
          ]
        }
      ]
    },
    {
      "cell_type": "markdown",
      "source": [
        "### The Environment"
      ],
      "metadata": {
        "id": "FsNtvsBDmJIE"
      }
    },
    {
      "cell_type": "code",
      "source": [
        "import gym\n",
        "from gym import spaces\n",
        "import numpy as np\n",
        "\n",
        "class TradingEnv(gym.Env):\n",
        "    def __init__(self, data, initial_balance=10000):\n",
        "        super(TradingEnv, self).__init__()\n",
        "        self.data = data\n",
        "        self.initial_balance = initial_balance\n",
        "        self.action_space = spaces.Discrete(3)  # Actions: 0 = Hold, 1 = Buy, 2 = Sell\n",
        "        self.observation_space = spaces.Box(low=0, high=np.inf, shape=(3,), dtype=np.float32)\n",
        "        self.reset()\n",
        "\n",
        "    def reset(self):\n",
        "        self.balance = self.initial_balance\n",
        "        self.stock_held = 0\n",
        "        self.current_step = 0\n",
        "        self.done = False\n",
        "        return self._get_state()\n",
        "\n",
        "    def _get_state(self):\n",
        "        return np.array([self.balance, self.stock_held, self.data.iloc[self.current_step]['Close']], dtype=np.float32)\n",
        "\n",
        "    def step(self, action):\n",
        "        current_price = self.data.iloc[self.current_step]['Close']\n",
        "        self.current_step += 1\n",
        "\n",
        "        if action == 0:  # Hold\n",
        "            reward = 0\n",
        "        elif action == 1:  # Buy\n",
        "            if self.balance >= current_price:\n",
        "                self.stock_held += 1\n",
        "                self.balance -= current_price\n",
        "                reward = 0\n",
        "            else:\n",
        "                reward = -1  # Penalty for trying to buy without enough balance\n",
        "        elif action == 2:  # Sell\n",
        "            if self.stock_held > 0:\n",
        "                self.stock_held -= 1\n",
        "                self.balance += current_price\n",
        "                reward = current_price - self.data.iloc[self.current_step-1]['Close']  # Reward is profit from the sale\n",
        "            else:\n",
        "                reward = -1  # Penalty for trying to sell without holding any stock\n",
        "\n",
        "        if self.current_step >= len(self.data) - 1:\n",
        "            self.done = True\n",
        "        else:\n",
        "            self.done = False\n",
        "\n",
        "        next_state = self._get_state()\n",
        "        return next_state, reward, self.done, {}\n",
        "\n",
        "env = TradingEnv(data)\n"
      ],
      "metadata": {
        "id": "1nZ1LZxAmKTu"
      },
      "execution_count": 13,
      "outputs": []
    },
    {
      "cell_type": "code",
      "source": [
        "!pip install tensorflow"
      ],
      "metadata": {
        "colab": {
          "base_uri": "https://localhost:8080/"
        },
        "id": "F4QyINXV95m0",
        "outputId": "681be46d-7be7-4c6e-bc1e-bc433a2983c1"
      },
      "execution_count": 14,
      "outputs": [
        {
          "output_type": "stream",
          "name": "stdout",
          "text": [
            "Requirement already satisfied: tensorflow in /usr/local/lib/python3.10/dist-packages (2.17.0)\n",
            "Requirement already satisfied: absl-py>=1.0.0 in /usr/local/lib/python3.10/dist-packages (from tensorflow) (1.4.0)\n",
            "Requirement already satisfied: astunparse>=1.6.0 in /usr/local/lib/python3.10/dist-packages (from tensorflow) (1.6.3)\n",
            "Requirement already satisfied: flatbuffers>=24.3.25 in /usr/local/lib/python3.10/dist-packages (from tensorflow) (24.3.25)\n",
            "Requirement already satisfied: gast!=0.5.0,!=0.5.1,!=0.5.2,>=0.2.1 in /usr/local/lib/python3.10/dist-packages (from tensorflow) (0.6.0)\n",
            "Requirement already satisfied: google-pasta>=0.1.1 in /usr/local/lib/python3.10/dist-packages (from tensorflow) (0.2.0)\n",
            "Requirement already satisfied: h5py>=3.10.0 in /usr/local/lib/python3.10/dist-packages (from tensorflow) (3.11.0)\n",
            "Requirement already satisfied: libclang>=13.0.0 in /usr/local/lib/python3.10/dist-packages (from tensorflow) (18.1.1)\n",
            "Requirement already satisfied: ml-dtypes<0.5.0,>=0.3.1 in /usr/local/lib/python3.10/dist-packages (from tensorflow) (0.4.0)\n",
            "Requirement already satisfied: opt-einsum>=2.3.2 in /usr/local/lib/python3.10/dist-packages (from tensorflow) (3.3.0)\n",
            "Requirement already satisfied: packaging in /usr/local/lib/python3.10/dist-packages (from tensorflow) (24.1)\n",
            "Requirement already satisfied: protobuf!=4.21.0,!=4.21.1,!=4.21.2,!=4.21.3,!=4.21.4,!=4.21.5,<5.0.0dev,>=3.20.3 in /usr/local/lib/python3.10/dist-packages (from tensorflow) (3.20.3)\n",
            "Requirement already satisfied: requests<3,>=2.21.0 in /usr/local/lib/python3.10/dist-packages (from tensorflow) (2.31.0)\n",
            "Requirement already satisfied: setuptools in /usr/local/lib/python3.10/dist-packages (from tensorflow) (71.0.4)\n",
            "Requirement already satisfied: six>=1.12.0 in /usr/local/lib/python3.10/dist-packages (from tensorflow) (1.16.0)\n",
            "Requirement already satisfied: termcolor>=1.1.0 in /usr/local/lib/python3.10/dist-packages (from tensorflow) (2.4.0)\n",
            "Requirement already satisfied: typing-extensions>=3.6.6 in /usr/local/lib/python3.10/dist-packages (from tensorflow) (4.12.2)\n",
            "Requirement already satisfied: wrapt>=1.11.0 in /usr/local/lib/python3.10/dist-packages (from tensorflow) (1.16.0)\n",
            "Requirement already satisfied: grpcio<2.0,>=1.24.3 in /usr/local/lib/python3.10/dist-packages (from tensorflow) (1.64.1)\n",
            "Requirement already satisfied: tensorboard<2.18,>=2.17 in /usr/local/lib/python3.10/dist-packages (from tensorflow) (2.17.0)\n",
            "Requirement already satisfied: keras>=3.2.0 in /usr/local/lib/python3.10/dist-packages (from tensorflow) (3.4.1)\n",
            "Requirement already satisfied: tensorflow-io-gcs-filesystem>=0.23.1 in /usr/local/lib/python3.10/dist-packages (from tensorflow) (0.37.1)\n",
            "Requirement already satisfied: numpy<2.0.0,>=1.23.5 in /usr/local/lib/python3.10/dist-packages (from tensorflow) (1.26.4)\n",
            "Requirement already satisfied: wheel<1.0,>=0.23.0 in /usr/local/lib/python3.10/dist-packages (from astunparse>=1.6.0->tensorflow) (0.43.0)\n",
            "Requirement already satisfied: rich in /usr/local/lib/python3.10/dist-packages (from keras>=3.2.0->tensorflow) (13.7.1)\n",
            "Requirement already satisfied: namex in /usr/local/lib/python3.10/dist-packages (from keras>=3.2.0->tensorflow) (0.0.8)\n",
            "Requirement already satisfied: optree in /usr/local/lib/python3.10/dist-packages (from keras>=3.2.0->tensorflow) (0.12.1)\n",
            "Requirement already satisfied: charset-normalizer<4,>=2 in /usr/local/lib/python3.10/dist-packages (from requests<3,>=2.21.0->tensorflow) (3.3.2)\n",
            "Requirement already satisfied: idna<4,>=2.5 in /usr/local/lib/python3.10/dist-packages (from requests<3,>=2.21.0->tensorflow) (3.7)\n",
            "Requirement already satisfied: urllib3<3,>=1.21.1 in /usr/local/lib/python3.10/dist-packages (from requests<3,>=2.21.0->tensorflow) (2.0.7)\n",
            "Requirement already satisfied: certifi>=2017.4.17 in /usr/local/lib/python3.10/dist-packages (from requests<3,>=2.21.0->tensorflow) (2024.7.4)\n",
            "Requirement already satisfied: markdown>=2.6.8 in /usr/local/lib/python3.10/dist-packages (from tensorboard<2.18,>=2.17->tensorflow) (3.6)\n",
            "Requirement already satisfied: tensorboard-data-server<0.8.0,>=0.7.0 in /usr/local/lib/python3.10/dist-packages (from tensorboard<2.18,>=2.17->tensorflow) (0.7.2)\n",
            "Requirement already satisfied: werkzeug>=1.0.1 in /usr/local/lib/python3.10/dist-packages (from tensorboard<2.18,>=2.17->tensorflow) (3.0.3)\n",
            "Requirement already satisfied: MarkupSafe>=2.1.1 in /usr/local/lib/python3.10/dist-packages (from werkzeug>=1.0.1->tensorboard<2.18,>=2.17->tensorflow) (2.1.5)\n",
            "Requirement already satisfied: markdown-it-py>=2.2.0 in /usr/local/lib/python3.10/dist-packages (from rich->keras>=3.2.0->tensorflow) (3.0.0)\n",
            "Requirement already satisfied: pygments<3.0.0,>=2.13.0 in /usr/local/lib/python3.10/dist-packages (from rich->keras>=3.2.0->tensorflow) (2.16.1)\n",
            "Requirement already satisfied: mdurl~=0.1 in /usr/local/lib/python3.10/dist-packages (from markdown-it-py>=2.2.0->rich->keras>=3.2.0->tensorflow) (0.1.2)\n"
          ]
        }
      ]
    },
    {
      "cell_type": "markdown",
      "source": [
        "#Implement PPO\n",
        "PPO involves defining the actor and critic networks, the loss function, and the training loop. We'll use TensorFlow and Keras for this."
      ],
      "metadata": {
        "id": "tUrkig3x9Qy_"
      }
    },
    {
      "cell_type": "code",
      "source": [
        "import tensorflow as tf\n",
        "from tensorflow.keras.models import Model\n",
        "from tensorflow.keras.layers import Dense, Input, Lambda\n",
        "from tensorflow.keras.optimizers import Adam\n",
        "import tensorflow_probability as tfp\n",
        "\n",
        "class PPOAgent:\n",
        "    def __init__(self, state_size, action_size, learning_rate=0.0003, gamma=0.99, epsilon=0.2, beta=0.01):\n",
        "        self.state_size = state_size\n",
        "        self.action_size = action_size\n",
        "        self.learning_rate = learning_rate\n",
        "        self.gamma = gamma\n",
        "        self.epsilon = epsilon\n",
        "        self.beta = beta\n",
        "        self.actor, self.critic = self._build_model()\n",
        "\n",
        "    def _build_model(self):\n",
        "        inputs = Input(shape=(self.state_size,))\n",
        "        dense1 = Dense(64, activation='relu')(inputs)\n",
        "        dense2 = Dense(64, activation='relu')(dense1)\n",
        "\n",
        "        action_probs = Dense(self.action_size, activation='softmax')(dense2)\n",
        "        values = Dense(1, activation='linear')(dense2)\n",
        "\n",
        "        actor = Model(inputs, action_probs)\n",
        "        critic = Model(inputs, values)\n",
        "\n",
        "        actor.compile(optimizer=Adam(learning_rate=self.learning_rate), loss=self._actor_loss)\n",
        "        critic.compile(optimizer=Adam(learning_rate=self.learning_rate), loss='mse')\n",
        "\n",
        "        return actor, critic\n",
        "\n",
        "    def _actor_loss(self, y_true, y_pred):\n",
        "        advantages, actions, old_predictions = y_true[:, :1], y_true[:, 1:1+self.action_size], y_true[:, 1+self.action_size:]\n",
        "\n",
        "        new_policy = tf.reduce_sum(actions * y_pred, axis=1, keepdims=True)\n",
        "        old_policy = tf.reduce_sum(actions * old_predictions, axis=1, keepdims=True)\n",
        "\n",
        "        ratio = new_policy / (old_policy + 1e-10)\n",
        "\n",
        "        surrogate1 = ratio * advantages\n",
        "        surrogate2 = tf.clip_by_value(ratio, 1 - self.epsilon, 1 + self.epsilon) * advantages\n",
        "\n",
        "        loss = -tf.reduce_mean(tf.minimum(surrogate1, surrogate2))\n",
        "        entropy = -tf.reduce_mean(y_pred * tf.math.log(y_pred + 1e-10))\n",
        "\n",
        "        return loss - self.beta * entropy\n",
        "\n",
        "    def act(self, state):\n",
        "        state = state.reshape([1, self.state_size])\n",
        "        action_probs = self.actor.predict(state, verbose=0)[0]\n",
        "        action = np.random.choice(self.action_size, p=action_probs)\n",
        "        return action, action_probs\n",
        "\n",
        "    def train(self, states, actions, rewards, next_states, dones):\n",
        "        actions = tf.one_hot(actions, self.action_size)\n",
        "\n",
        "        old_predictions = self.actor.predict(states, verbose=0)\n",
        "        values = self.critic.predict(states, verbose=0)\n",
        "        next_values = self.critic.predict(next_states, verbose=0)\n",
        "\n",
        "        advantages = rewards + self.gamma * (1 - dones) * next_values.squeeze() - values.squeeze()\n",
        "        advantages = advantages.reshape([-1, 1])\n",
        "\n",
        "        y_true = np.hstack([advantages, actions, old_predictions])\n",
        "\n",
        "        self.actor.train_on_batch(states, y_true)\n",
        "        self.critic.train_on_batch(states, rewards + self.gamma * (1 - dones) * next_values.squeeze())\n",
        "\n"
      ],
      "metadata": {
        "colab": {
          "base_uri": "https://localhost:8080/",
          "height": 471
        },
        "id": "5i8L3zCd9Y92",
        "outputId": "6a9b9c9d-214f-4181-b104-c34bdb81b3db"
      },
      "execution_count": 15,
      "outputs": [
        {
          "output_type": "stream",
          "name": "stdout",
          "text": [
            "Episode 1/10, Total Reward: -621.0\n",
            "Episode 2/10, Total Reward: -621.0\n",
            "Episode 3/10, Total Reward: -621.0\n",
            "Episode 4/10, Total Reward: -490.0\n",
            "Episode 5/10, Total Reward: 0.0\n",
            "Episode 6/10, Total Reward: 0.0\n",
            "Episode 7/10, Total Reward: 0.0\n",
            "Episode 8/10, Total Reward: -755\n",
            "Episode 9/10, Total Reward: -755\n",
            "Episode 10/10, Total Reward: -755\n"
          ]
        },
        {
          "output_type": "error",
          "ename": "NameError",
          "evalue": "name 'plt' is not defined",
          "traceback": [
            "\u001b[0;31m---------------------------------------------------------------------------\u001b[0m",
            "\u001b[0;31mNameError\u001b[0m                                 Traceback (most recent call last)",
            "\u001b[0;32m<ipython-input-15-8e9a986e0c77>\u001b[0m in \u001b[0;36m<cell line: 126>\u001b[0;34m()\u001b[0m\n\u001b[1;32m    124\u001b[0m     \u001b[0mplt\u001b[0m\u001b[0;34m.\u001b[0m\u001b[0mshow\u001b[0m\u001b[0;34m(\u001b[0m\u001b[0;34m)\u001b[0m\u001b[0;34m\u001b[0m\u001b[0;34m\u001b[0m\u001b[0m\n\u001b[1;32m    125\u001b[0m \u001b[0;34m\u001b[0m\u001b[0m\n\u001b[0;32m--> 126\u001b[0;31m \u001b[0mplot_rewards\u001b[0m\u001b[0;34m(\u001b[0m\u001b[0mppo_rewards\u001b[0m\u001b[0;34m)\u001b[0m\u001b[0;34m\u001b[0m\u001b[0;34m\u001b[0m\u001b[0m\n\u001b[0m",
            "\u001b[0;32m<ipython-input-15-8e9a986e0c77>\u001b[0m in \u001b[0;36mplot_rewards\u001b[0;34m(ppo_rewards)\u001b[0m\n\u001b[1;32m    114\u001b[0m     \u001b[0mepisodes\u001b[0m \u001b[0;34m=\u001b[0m \u001b[0mrange\u001b[0m\u001b[0;34m(\u001b[0m\u001b[0;36m1\u001b[0m\u001b[0;34m,\u001b[0m \u001b[0mlen\u001b[0m\u001b[0;34m(\u001b[0m\u001b[0mppo_rewards\u001b[0m\u001b[0;34m)\u001b[0m \u001b[0;34m+\u001b[0m \u001b[0;36m1\u001b[0m\u001b[0;34m)\u001b[0m\u001b[0;34m\u001b[0m\u001b[0;34m\u001b[0m\u001b[0m\n\u001b[1;32m    115\u001b[0m \u001b[0;34m\u001b[0m\u001b[0m\n\u001b[0;32m--> 116\u001b[0;31m     \u001b[0mplt\u001b[0m\u001b[0;34m.\u001b[0m\u001b[0mfigure\u001b[0m\u001b[0;34m(\u001b[0m\u001b[0mfigsize\u001b[0m\u001b[0;34m=\u001b[0m\u001b[0;34m(\u001b[0m\u001b[0;36m10\u001b[0m\u001b[0;34m,\u001b[0m \u001b[0;36m6\u001b[0m\u001b[0;34m)\u001b[0m\u001b[0;34m)\u001b[0m\u001b[0;34m\u001b[0m\u001b[0;34m\u001b[0m\u001b[0m\n\u001b[0m\u001b[1;32m    117\u001b[0m     \u001b[0mplt\u001b[0m\u001b[0;34m.\u001b[0m\u001b[0mplot\u001b[0m\u001b[0;34m(\u001b[0m\u001b[0mepisodes\u001b[0m\u001b[0;34m,\u001b[0m \u001b[0mppo_rewards\u001b[0m\u001b[0;34m,\u001b[0m \u001b[0mlabel\u001b[0m\u001b[0;34m=\u001b[0m\u001b[0;34m'PPO'\u001b[0m\u001b[0;34m,\u001b[0m \u001b[0mmarker\u001b[0m\u001b[0;34m=\u001b[0m\u001b[0;34m'o'\u001b[0m\u001b[0;34m,\u001b[0m \u001b[0mlinestyle\u001b[0m\u001b[0;34m=\u001b[0m\u001b[0;34m'-'\u001b[0m\u001b[0;34m,\u001b[0m \u001b[0mcolor\u001b[0m\u001b[0;34m=\u001b[0m\u001b[0;34m'g'\u001b[0m\u001b[0;34m)\u001b[0m\u001b[0;34m\u001b[0m\u001b[0;34m\u001b[0m\u001b[0m\n\u001b[1;32m    118\u001b[0m \u001b[0;34m\u001b[0m\u001b[0m\n",
            "\u001b[0;31mNameError\u001b[0m: name 'plt' is not defined"
          ]
        }
      ]
    },
    {
      "cell_type": "markdown",
      "source": [
        "# Training Function"
      ],
      "metadata": {
        "id": "2hOCQXom-1ZT"
      }
    },
    {
      "cell_type": "code",
      "source": [
        "# Training Function\n",
        "def train_ppo(agent, env, num_episodes, batch_size):\n",
        "    rewards = []\n",
        "    for e in range(num_episodes):\n",
        "        state = env.reset()\n",
        "        episode_reward = 0\n",
        "        done = False\n",
        "\n",
        "        states, actions, rewards_list, next_states, dones = [], [], [], [], []\n",
        "\n",
        "        while not done:\n",
        "            action, action_prob = agent.act(state)\n",
        "            next_state, reward, done, _ = env.step(action)\n",
        "\n",
        "            states.append(state)\n",
        "            actions.append(action)\n",
        "            rewards_list.append(reward)\n",
        "            next_states.append(next_state)\n",
        "            dones.append(done)\n",
        "\n",
        "            state = next_state\n",
        "            episode_reward += reward\n",
        "\n",
        "            if len(states) >= batch_size:\n",
        "                agent.train(np.array(states), np.array(actions), np.array(rewards_list), np.array(next_states), np.array(dones))\n",
        "                states, actions, rewards_list, next_states, dones = [], [], [], [], []\n",
        "\n",
        "        rewards.append(episode_reward)\n",
        "        print(f\"Episode {e+1}/{num_episodes}, Total Reward: {episode_reward}\")\n",
        "\n",
        "    return rewards\n",
        "\n",
        "# Parameters\n",
        "num_episodes = 10\n",
        "state_size = 3\n",
        "action_size = 3\n",
        "batch_size = 32\n",
        "\n",
        "# Train PPO Agent\n",
        "ppo_agent = PPOAgent(state_size, action_size)\n",
        "ppo_rewards = train_ppo(ppo_agent, env, num_episodes, batch_size)\n"
      ],
      "metadata": {
        "colab": {
          "base_uri": "https://localhost:8080/"
        },
        "id": "R_JuW3HH-bQw",
        "outputId": "44c3ccaa-b8e2-4d14-c470-e1c0c7ef85bc"
      },
      "execution_count": 7,
      "outputs": [
        {
          "output_type": "stream",
          "name": "stdout",
          "text": [
            "Episode 1/10, Total Reward: -755\n",
            "Episode 2/10, Total Reward: -755\n",
            "Episode 3/10, Total Reward: -755\n",
            "Episode 4/10, Total Reward: -755\n",
            "Episode 5/10, Total Reward: -755\n",
            "Episode 6/10, Total Reward: -755\n",
            "Episode 7/10, Total Reward: -755\n",
            "Episode 8/10, Total Reward: -755\n",
            "Episode 9/10, Total Reward: -755\n",
            "Episode 10/10, Total Reward: -755\n"
          ]
        }
      ]
    },
    {
      "cell_type": "markdown",
      "source": [
        "# Plotting the Results"
      ],
      "metadata": {
        "id": "DrXdsq6S-rmm"
      }
    },
    {
      "cell_type": "code",
      "source": [
        "!pip install matplotlib"
      ],
      "metadata": {
        "colab": {
          "base_uri": "https://localhost:8080/"
        },
        "id": "nLn7mXR4FuXB",
        "outputId": "a6b2c6ba-6019-431f-8318-63e48ff706c1"
      },
      "execution_count": 16,
      "outputs": [
        {
          "output_type": "stream",
          "name": "stdout",
          "text": [
            "Requirement already satisfied: matplotlib in /usr/local/lib/python3.10/dist-packages (3.7.1)\n",
            "Requirement already satisfied: contourpy>=1.0.1 in /usr/local/lib/python3.10/dist-packages (from matplotlib) (1.2.1)\n",
            "Requirement already satisfied: cycler>=0.10 in /usr/local/lib/python3.10/dist-packages (from matplotlib) (0.12.1)\n",
            "Requirement already satisfied: fonttools>=4.22.0 in /usr/local/lib/python3.10/dist-packages (from matplotlib) (4.53.1)\n",
            "Requirement already satisfied: kiwisolver>=1.0.1 in /usr/local/lib/python3.10/dist-packages (from matplotlib) (1.4.5)\n",
            "Requirement already satisfied: numpy>=1.20 in /usr/local/lib/python3.10/dist-packages (from matplotlib) (1.26.4)\n",
            "Requirement already satisfied: packaging>=20.0 in /usr/local/lib/python3.10/dist-packages (from matplotlib) (24.1)\n",
            "Requirement already satisfied: pillow>=6.2.0 in /usr/local/lib/python3.10/dist-packages (from matplotlib) (9.4.0)\n",
            "Requirement already satisfied: pyparsing>=2.3.1 in /usr/local/lib/python3.10/dist-packages (from matplotlib) (3.1.2)\n",
            "Requirement already satisfied: python-dateutil>=2.7 in /usr/local/lib/python3.10/dist-packages (from matplotlib) (2.8.2)\n",
            "Requirement already satisfied: six>=1.5 in /usr/local/lib/python3.10/dist-packages (from python-dateutil>=2.7->matplotlib) (1.16.0)\n"
          ]
        }
      ]
    },
    {
      "cell_type": "code",
      "source": [
        "import matplotlib.pyplot as plt\n",
        "\n",
        "def plot_rewards(ppo_rewards):\n",
        "    episodes = range(1, len(ppo_rewards) + 1)\n",
        "\n",
        "    plt.figure(figsize=(10, 6))\n",
        "    plt.plot(episodes, ppo_rewards, label='PPO', marker='o', linestyle='-', color='g')\n",
        "\n",
        "    plt.xlabel('Episode', fontsize=14)\n",
        "    plt.ylabel('Total Reward', fontsize=14)\n",
        "    plt.title('PPO Performance', fontsize=16)\n",
        "    plt.legend()\n",
        "    plt.grid(True)\n",
        "    plt.show()\n",
        "\n",
        "plot_rewards(ppo_rewards)\n"
      ],
      "metadata": {
        "colab": {
          "base_uri": "https://localhost:8080/",
          "height": 571
        },
        "id": "TPkJyZWB-j2O",
        "outputId": "7974605c-d305-464f-8eab-3bcc2fde6f45"
      },
      "execution_count": 17,
      "outputs": [
        {
          "output_type": "display_data",
          "data": {
            "text/plain": [
              "<Figure size 1000x600 with 1 Axes>"
            ],
            "image/png": "[encoded data removed]"
          },
          "metadata": {}
        }
      ]
    }
  ]
}